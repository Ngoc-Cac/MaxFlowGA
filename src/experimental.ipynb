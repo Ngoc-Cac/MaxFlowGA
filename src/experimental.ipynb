{
 "cells": [
  {
   "cell_type": "code",
   "execution_count": null,
   "metadata": {},
   "outputs": [],
   "source": [
    "from maxflow_ga.ga_solver import GA_Solver"
   ]
  },
  {
   "cell_type": "code",
   "execution_count": null,
   "metadata": {},
   "outputs": [],
   "source": [
    "capacity_matrix = [[0, 3, 16, 4, 17, 0, 0, 28, 10, 19, 0],\n",
    "                   [0, 0, 10, 0, 21, 0, 15, 0, 0, 0, 19],\n",
    "                   [0, 0, 0, 0, 0, 0, 0, 0, 0, 0, 16],\n",
    "                   [0, 0, 7, 0, 0, 0, 0, 0, 0, 0, 18],\n",
    "                   [0, 0, 0, 0, 0, 0, 0, 0, 5, 0, 5],\n",
    "                   [0, 0, 0, 0, 0, 0, 22, 0, 10, 0, 15],\n",
    "                   [0, 0, 0, 0, 0, 0, 0, 0, 0, 0, 11],\n",
    "                   [0, 0, 7, 0, 0, 0, 0, 0, 0, 0, 5],\n",
    "                   [0, 0, 0, 0, 0, 0, 0, 0, 0, 0, 46], #46\n",
    "                   [0, 0, 0, 0, 0, 6, 0, 0, 12, 0, 0],\n",
    "                   [0, 0, 0, 0, 0, 0, 0, 0, 0, 0, 0]]\n",
    "\n",
    "amount: int = 500\n",
    "max_iter: int = 500\n",
    "best_max_iter: int = 20\n",
    "mutation_rate = 0.05"
   ]
  },
  {
   "cell_type": "code",
   "execution_count": null,
   "metadata": {},
   "outputs": [],
   "source": [
    "solver = GA_Solver(\n",
    "    capacity_matrix, pop_size=amount,\n",
    "    mutation_rate=mutation_rate,\n",
    "    selection_scheme='fuss',\n",
    ")"
   ]
  },
  {
   "cell_type": "code",
   "execution_count": null,
   "metadata": {},
   "outputs": [
    {
     "name": "stderr",
     "output_type": "stream",
     "text": [
      "Generation:  13%|█▎        | 67/500 [00:46<05:03,  1.43it/s, Generation of best Individual: 47]\n"
     ]
    },
    {
     "data": {
      "text/plain": [
       "(68, 47)"
      ]
     },
     "metadata": {},
     "output_type": "display_data"
    }
   ],
   "source": [
    "result = solver.optimize(\n",
    "    max_iter=max_iter, best_max_iter=best_max_iter,\n",
    "    verbose=True\n",
    ")\n",
    "result['total_gen'], result['gen_of_best_ind']"
   ]
  },
  {
   "cell_type": "code",
   "execution_count": null,
   "metadata": {},
   "outputs": [
    {
     "data": {
      "text/plain": [
       "  Fitness: 1.670103092783505\n",
       "  Balanced vertices: 11/11\n",
       "  Maximum flow: 65\n",
       "  Flow matrix:\n",
       "[[ 0  3 10  4  9  0  0 11 10 18  0]\n",
       " [ 0  0  0  0  1  0  2  0  0  0  0]\n",
       " [ 0  0  0  0  0  0  0  0  0  0 16]\n",
       " [ 0  0  0  0  0  0  0  0  0  0  4]\n",
       " [ 0  0  0  0  0  0  0  0  5  0  5]\n",
       " [ 0  0  0  0  0  0  1  0  2  0  3]\n",
       " [ 0  0  0  0  0  0  0  0  0  0  3]\n",
       " [ 0  0  6  0  0  0  0  0  0  0  5]\n",
       " [ 0  0  0  0  0  0  0  0  0  0 29]\n",
       " [ 0  0  0  0  0  6  0  0 12  0  0]\n",
       " [ 0  0  0  0  0  0  0  0  0  0  0]]"
      ]
     },
     "metadata": {},
     "output_type": "display_data"
    }
   ],
   "source": [
    "result['best_of_all_gen']"
   ]
  }
 ],
 "metadata": {
  "kernelspec": {
   "display_name": "Python 3",
   "language": "python",
   "name": "python3"
  },
  "language_info": {
   "codemirror_mode": {
    "name": "ipython",
    "version": 3
   },
   "file_extension": ".py",
   "mimetype": "text/x-python",
   "name": "python",
   "nbconvert_exporter": "python",
   "pygments_lexer": "ipython3",
   "version": "3.12.1"
  }
 },
 "nbformat": 4,
 "nbformat_minor": 2
}
